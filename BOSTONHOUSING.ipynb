{
 "cells": [
  {
   "cell_type": "markdown",
   "metadata": {},
   "source": [
    "###BOSTON HOUSING \n",
    "\n"
   ]
  },
  {
   "cell_type": "code",
   "execution_count": 27,
   "metadata": {
    "collapsed": false
   },
   "outputs": [],
   "source": [
    "from sklearn import datasets\n",
    "import pandas as pd\n",
    "from sklearn.preprocessing import StandardScaler\n",
    "from sklearn.cross_validation import train_test_split\n",
    "from sklearn.metrics import mean_squared_error\n",
    "from sklearn.metrics import r2_score\n",
    "from sklearn.linear_model import LinearRegression\n",
    "from sklearn.linear_model import Ridge\n",
    "import numpy as np"
   ]
  },
  {
   "cell_type": "code",
   "execution_count": 3,
   "metadata": {
    "collapsed": false
   },
   "outputs": [
    {
     "name": "stdout",
     "output_type": "stream",
     "text": [
      "Boston House Prices dataset\n",
      "\n",
      "Notes\n",
      "------\n",
      "Data Set Characteristics:  \n",
      "\n",
      "    :Number of Instances: 506 \n",
      "\n",
      "    :Number of Attributes: 13 numeric/categorical predictive\n",
      "    \n",
      "    :Median Value (attribute 14) is usually the target\n",
      "\n",
      "    :Attribute Information (in order):\n",
      "        - CRIM     per capita crime rate by town\n",
      "        - ZN       proportion of residential land zoned for lots over 25,000 sq.ft.\n",
      "        - INDUS    proportion of non-retail business acres per town\n",
      "        - CHAS     Charles River dummy variable (= 1 if tract bounds river; 0 otherwise)\n",
      "        - NOX      nitric oxides concentration (parts per 10 million)\n",
      "        - RM       average number of rooms per dwelling\n",
      "        - AGE      proportion of owner-occupied units built prior to 1940\n",
      "        - DIS      weighted distances to five Boston employment centres\n",
      "        - RAD      index of accessibility to radial highways\n",
      "        - TAX      full-value property-tax rate per $10,000\n",
      "        - PTRATIO  pupil-teacher ratio by town\n",
      "        - B        1000(Bk - 0.63)^2 where Bk is the proportion of blacks by town\n",
      "        - LSTAT    % lower status of the population\n",
      "        - MEDV     Median value of owner-occupied homes in $1000's\n",
      "\n",
      "    :Missing Attribute Values: None\n",
      "\n",
      "    :Creator: Harrison, D. and Rubinfeld, D.L.\n",
      "\n",
      "This is a copy of UCI ML housing dataset.\n",
      "http://archive.ics.uci.edu/ml/datasets/Housing\n",
      "\n",
      "\n",
      "This dataset was taken from the StatLib library which is maintained at Carnegie Mellon University.\n",
      "\n",
      "The Boston house-price data of Harrison, D. and Rubinfeld, D.L. 'Hedonic\n",
      "prices and the demand for clean air', J. Environ. Economics & Management,\n",
      "vol.5, 81-102, 1978.   Used in Belsley, Kuh & Welsch, 'Regression diagnostics\n",
      "...', Wiley, 1980.   N.B. Various transformations are used in the table on\n",
      "pages 244-261 of the latter.\n",
      "\n",
      "The Boston house-price data has been used in many machine learning papers that address regression\n",
      "problems.   \n",
      "     \n",
      "**References**\n",
      "\n",
      "   - Belsley, Kuh & Welsch, 'Regression diagnostics: Identifying Influential Data and Sources of Collinearity', Wiley, 1980. 244-261.\n",
      "   - Quinlan,R. (1993). Combining Instance-Based and Model-Based Learning. In Proceedings on the Tenth International Conference of Machine Learning, 236-243, University of Massachusetts, Amherst. Morgan Kaufmann.\n",
      "   - many more! (see http://archive.ics.uci.edu/ml/datasets/Housing)\n",
      "\n"
     ]
    }
   ],
   "source": [
    "bean = datasets.load_boston()\n",
    "print bean.DESCR"
   ]
  },
  {
   "cell_type": "code",
   "execution_count": 4,
   "metadata": {
    "collapsed": true
   },
   "outputs": [],
   "source": [
    "def load_boston():\n",
    "    scaler = StandardScaler()\n",
    "    boston = datasets.load_boston()\n",
    "    X=boston.data\n",
    "    y=boston.target\n",
    "    X = scaler.fit_transform(X)\n",
    "    return train_test_split(X,y)"
   ]
  },
  {
   "cell_type": "code",
   "execution_count": 5,
   "metadata": {
    "collapsed": true
   },
   "outputs": [],
   "source": [
    "X_train, X_test, y_train, y_test = load_boston()"
   ]
  },
  {
   "cell_type": "code",
   "execution_count": 6,
   "metadata": {
    "collapsed": false
   },
   "outputs": [
    {
     "data": {
      "text/plain": [
       "(379L, 13L)"
      ]
     },
     "execution_count": 6,
     "metadata": {},
     "output_type": "execute_result"
    }
   ],
   "source": [
    "X_train.shape"
   ]
  },
  {
   "cell_type": "markdown",
   "metadata": {},
   "source": [
    "###Fitting a Linear Regression\n",
    "\n",
    "\n",
    "It's as easy as instantiating a new regression object (line 1) and giving your regression object your training data (line 2) by calling .fit(independent variables, dependent variable)"
   ]
  },
  {
   "cell_type": "code",
   "execution_count": 9,
   "metadata": {
    "collapsed": false
   },
   "outputs": [
    {
     "data": {
      "text/plain": [
       "LinearRegression(copy_X=True, fit_intercept=True, n_jobs=1, normalize=False)"
      ]
     },
     "execution_count": 9,
     "metadata": {},
     "output_type": "execute_result"
    }
   ],
   "source": [
    "clf = LinearRegression()\n",
    "clf.fit(X_train, y_train)"
   ]
  },
  {
   "cell_type": "markdown",
   "metadata": {},
   "source": [
    "\n",
    "###Making a Prediction\n",
    "\n",
    "\n",
    "X_test is our holdout set of data. We know the answer (y_test) but the computer does not.\n",
    "\n",
    "Using the command below, create a tuple for each observation, where combining the real value (y_test) with the value our regressor predicts (clf.predict(X_test))\n",
    "\n"
   ]
  },
  {
   "cell_type": "code",
   "execution_count": 14,
   "metadata": {
    "collapsed": false
   },
   "outputs": [
    {
     "data": {
      "text/plain": [
       "[(23.100000000000001, 7.7658622470698973),\n",
       " (23.100000000000001, 17.059508814545133),\n",
       " (13.800000000000001, 15.688187550998407),\n",
       " (12.1, 18.683664107507575),\n",
       " (21.0, 22.63476466772152),\n",
       " (17.800000000000001, 17.52108632648871),\n",
       " (23.699999999999999, 27.34509151416362),\n",
       " (31.100000000000001, 32.399697916047614),\n",
       " (8.5, 16.265873553397292),\n",
       " (37.899999999999999, 33.451412345205391),\n",
       " (20.300000000000001, 23.068434551918411),\n",
       " (33.299999999999997, 36.839979037263127),\n",
       " (24.0, 24.81377306216136),\n",
       " (32.0, 33.450986388694815),\n",
       " (25.100000000000001, 31.604006028884179),\n",
       " (36.200000000000003, 26.963500147004712),\n",
       " (21.199999999999999, 22.696235104041296),\n",
       " (37.299999999999997, 34.197102316504001),\n",
       " (18.5, 18.838556131542234),\n",
       " (20.100000000000001, 20.131534573877623),\n",
       " (32.399999999999999, 37.367041059629386),\n",
       " (15.6, 15.313642598579509),\n",
       " (18.800000000000001, 20.465958477969764),\n",
       " (14.6, 19.255452317263369),\n",
       " (21.0, 21.008891070072629),\n",
       " (29.399999999999999, 30.690799845134062),\n",
       " (29.899999999999999, 31.33040286254262),\n",
       " (7.4000000000000004, 5.6458102606914053),\n",
       " (20.0, 20.276629655320583),\n",
       " (22.199999999999999, 25.299141869398511),\n",
       " (29.600000000000001, 26.039031391337279),\n",
       " (23.300000000000001, 27.885235492277005),\n",
       " (50.0, 36.414053382997054),\n",
       " (20.600000000000001, 21.939015385565796),\n",
       " (19.5, 17.858176628759441),\n",
       " (21.0, 21.376220418470886),\n",
       " (23.800000000000001, 24.834800559716008),\n",
       " (24.699999999999999, 25.076863985119218),\n",
       " (12.5, 19.778016956659933),\n",
       " (22.0, 27.621085293766601),\n",
       " (23.899999999999999, 26.056834848630551),\n",
       " (38.700000000000003, 36.481269648058813),\n",
       " (23.399999999999999, 24.197618972551393),\n",
       " (12.699999999999999, 17.931104827078794),\n",
       " (28.699999999999999, 28.324695492977369),\n",
       " (19.100000000000001, 16.793099662264744),\n",
       " (28.199999999999999, 32.064539427380083),\n",
       " (25.0, 24.356919605478542),\n",
       " (23.699999999999999, 27.671275052156822),\n",
       " (20.0, 18.888268967185059),\n",
       " (18.899999999999999, 19.212090808689844),\n",
       " (23.100000000000001, 22.003514974529431),\n",
       " (29.0, 32.646853847309629),\n",
       " (21.399999999999999, 21.793262014451109),\n",
       " (18.300000000000001, 19.993420857250726),\n",
       " (11.5, 13.942913608443867),\n",
       " (32.5, 30.119488728325351),\n",
       " (19.399999999999999, 16.942709758757093),\n",
       " (27.899999999999999, 19.06271798670614),\n",
       " (24.699999999999999, 22.666710029088524),\n",
       " (23.600000000000001, 30.584166204258459),\n",
       " (13.800000000000001, 0.087583438108289613),\n",
       " (16.100000000000001, 17.393545384115914),\n",
       " (22.0, 26.983424930642652),\n",
       " (26.600000000000001, 23.156864180828801),\n",
       " (18.399999999999999, 15.581414747455661),\n",
       " (16.100000000000001, 19.066251457281375),\n",
       " (14.0, 13.940523697676007),\n",
       " (28.0, 28.482995739416836),\n",
       " (23.800000000000001, 26.026395937547619),\n",
       " (42.299999999999997, 37.968501166032155),\n",
       " (8.8000000000000007, 2.2771362670060498),\n",
       " (19.100000000000001, 23.831057262333996),\n",
       " (13.199999999999999, 8.5165638386453004),\n",
       " (21.699999999999999, 25.114590627246759),\n",
       " (19.600000000000001, 19.496226108081999),\n",
       " (19.5, 19.841642341035055),\n",
       " (23.600000000000001, 28.57743533632668),\n",
       " (33.399999999999999, 35.306885973364707),\n",
       " (26.199999999999999, 24.865031156534499),\n",
       " (22.600000000000001, 24.831797690538352),\n",
       " (13.6, 14.399858799018183),\n",
       " (50.0, 22.010469841671451),\n",
       " (19.899999999999999, 18.95962347026687),\n",
       " (33.100000000000001, 36.371249994189029),\n",
       " (27.0, 33.706618197574983),\n",
       " (21.699999999999999, 24.887511375742982),\n",
       " (5.0, 8.4266685237199237),\n",
       " (15.0, 19.647807723218282),\n",
       " (14.9, 17.969135960585835),\n",
       " (13.800000000000001, 12.437462220711145),\n",
       " (50.0, 38.063577709576009),\n",
       " (17.899999999999999, -0.22042142187311953),\n",
       " (17.800000000000001, 21.695191325970448),\n",
       " (21.899999999999999, 40.914691408183899),\n",
       " (21.699999999999999, 21.670605727881295),\n",
       " (19.0, 20.948889117546866),\n",
       " (15.699999999999999, 13.959776745166341),\n",
       " (11.800000000000001, 12.674450064643832),\n",
       " (18.899999999999999, 15.46217431086076),\n",
       " (5.5999999999999996, 12.392703169171153),\n",
       " (19.600000000000001, 22.845532356015156),\n",
       " (16.600000000000001, 15.065909380836356),\n",
       " (20.300000000000001, 22.290797356806461),\n",
       " (13.1, 13.672809403300162),\n",
       " (14.1, 15.357740046204494),\n",
       " (22.699999999999999, 24.517330503276348),\n",
       " (16.199999999999999, 20.02402106649247),\n",
       " (31.600000000000001, 33.079788791461525),\n",
       " (19.199999999999999, 20.193644512507582),\n",
       " (19.399999999999999, 22.708353985167083),\n",
       " (14.5, 13.504120467562061),\n",
       " (22.5, 17.561192205525309),\n",
       " (19.100000000000001, 17.077671578356),\n",
       " (32.700000000000003, 31.168243146077209),\n",
       " (30.100000000000001, 34.750826603440018),\n",
       " (30.699999999999999, 31.614325412998504),\n",
       " (19.899999999999999, 20.336999887273283),\n",
       " (19.399999999999999, 25.03537073203411),\n",
       " (18.600000000000001, 18.325666003816341),\n",
       " (32.899999999999999, 31.368105047057405),\n",
       " (31.0, 34.867792290749698),\n",
       " (23.699999999999999, 28.579846914943591),\n",
       " (24.100000000000001, 28.990021952560014),\n",
       " (24.399999999999999, 24.906121464167793),\n",
       " (48.799999999999997, 42.087558655309266),\n",
       " (44.799999999999997, 39.123926633798128)]"
      ]
     },
     "execution_count": 14,
     "metadata": {},
     "output_type": "execute_result"
    }
   ],
   "source": [
    "zip (y_test, clf.predict(X_test))"
   ]
  },
  {
   "cell_type": "markdown",
   "metadata": {},
   "source": [
    "### MEAN SQUARED ERROR"
   ]
  },
  {
   "cell_type": "markdown",
   "metadata": {},
   "source": [
    "Measuring the performance using MSE"
   ]
  },
  {
   "cell_type": "code",
   "execution_count": 17,
   "metadata": {
    "collapsed": false
   },
   "outputs": [
    {
     "data": {
      "text/plain": [
       "29.008572533724553"
      ]
     },
     "execution_count": 17,
     "metadata": {},
     "output_type": "execute_result"
    }
   ],
   "source": [
    "mean_squared_error(y_test, clf.predict(X_test))"
   ]
  },
  {
   "cell_type": "markdown",
   "metadata": {},
   "source": [
    "### R2\n",
    "\n",
    "Measuring the performance sing r2"
   ]
  },
  {
   "cell_type": "code",
   "execution_count": 18,
   "metadata": {
    "collapsed": false
   },
   "outputs": [
    {
     "data": {
      "text/plain": [
       "0.61503430600614295"
      ]
     },
     "execution_count": 18,
     "metadata": {},
     "output_type": "execute_result"
    }
   ],
   "source": [
    "r2_score(y_test, clf.predict(X_test))"
   ]
  },
  {
   "cell_type": "markdown",
   "metadata": {},
   "source": [
    "###L2 Regularization"
   ]
  },
  {
   "cell_type": "code",
   "execution_count": 22,
   "metadata": {
    "collapsed": false
   },
   "outputs": [
    {
     "data": {
      "text/plain": [
       "Ridge(alpha=1.0, copy_X=True, fit_intercept=True, max_iter=None,\n",
       "   normalize=False, solver='auto', tol=0.009)"
      ]
     },
     "execution_count": 22,
     "metadata": {},
     "output_type": "execute_result"
    }
   ],
   "source": [
    "np.random.seed(0)\n",
    "clf = Ridge(alpha=1.0)\n",
    "clf.fit(X_train, y_train) \n",
    "Ridge(alpha=1.0, copy_X=True, fit_intercept=True, max_iter=None, normalize=False, solver='auto', tol=0.009)"
   ]
  },
  {
   "cell_type": "code",
   "execution_count": 28,
   "metadata": {
    "collapsed": false
   },
   "outputs": [
    {
     "data": {
      "text/plain": [
       "0.61503430600614295"
      ]
     },
     "execution_count": 28,
     "metadata": {},
     "output_type": "execute_result"
    }
   ],
   "source": [
    "r2_score(y_test,clf.predict(X_test))"
   ]
  },
  {
   "cell_type": "code",
   "execution_count": 29,
   "metadata": {
    "collapsed": false
   },
   "outputs": [
    {
     "data": {
      "text/plain": [
       "29.008572533724553"
      ]
     },
     "execution_count": 29,
     "metadata": {},
     "output_type": "execute_result"
    }
   ],
   "source": [
    "mean_squared_error(y_test, clf.predict(X_test))"
   ]
  },
  {
   "cell_type": "code",
   "execution_count": null,
   "metadata": {
    "collapsed": true
   },
   "outputs": [],
   "source": []
  }
 ],
 "metadata": {
  "kernelspec": {
   "display_name": "Python 2",
   "language": "python",
   "name": "python2"
  },
  "language_info": {
   "codemirror_mode": {
    "name": "ipython",
    "version": 2
   },
   "file_extension": ".py",
   "mimetype": "text/x-python",
   "name": "python",
   "nbconvert_exporter": "python",
   "pygments_lexer": "ipython2",
   "version": "2.7.10"
  }
 },
 "nbformat": 4,
 "nbformat_minor": 0
}
